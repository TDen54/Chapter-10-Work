{
 "cells": [
  {
   "cell_type": "markdown",
   "id": "59f8816b",
   "metadata": {},
   "source": [
    "##Chapter 10 Programming Exercises"
   ]
  },
  {
   "cell_type": "markdown",
   "id": "3015224f",
   "metadata": {},
   "source": [
    "#Question 2"
   ]
  },
  {
   "cell_type": "code",
   "execution_count": 2,
   "id": "9b15e702",
   "metadata": {},
   "outputs": [
    {
     "name": "stdout",
     "output_type": "stream",
     "text": [
      "Year Model: 2024\n",
      "Make: Chevrolet\n",
      "Current Speed: 0 mph\n"
     ]
    }
   ],
   "source": [
    "class Car:\n",
    "    def __init__(self, year_model, make):\n",
    "        self.__year_model = year_model\n",
    "        self.__make = make\n",
    "        self.__speed = 0\n",
    "\n",
    "def main():\n",
    "    # Create a Car object\n",
    "    my_car = Car(2024, \"Chevrolet\")\n",
    "\n",
    "    # Access the attributes\n",
    "    year_model = my_car._Car__year_model\n",
    "    make = my_car._Car__make\n",
    "    speed = my_car._Car__speed\n",
    "\n",
    "    # Display the car's information\n",
    "    print(f\"Year Model: {year_model}\")\n",
    "    print(f\"Make: {make}\")\n",
    "    print(f\"Current Speed: {speed} mph\")\n",
    "\n",
    "if __name__ == \"__main__\":\n",
    "    main()\n"
   ]
  },
  {
   "cell_type": "code",
   "execution_count": 3,
   "id": "736fd82f",
   "metadata": {},
   "outputs": [
    {
     "name": "stdout",
     "output_type": "stream",
     "text": [
      "Current speed: 5 mph\n",
      "Current speed: 10 mph\n",
      "Current speed: 15 mph\n",
      "Current speed: 20 mph\n",
      "Current speed: 25 mph\n",
      "Current speed: 20 mph\n",
      "Current speed: 15 mph\n",
      "Current speed: 10 mph\n",
      "Current speed: 5 mph\n",
      "Current speed: 0 mph\n"
     ]
    }
   ],
   "source": [
    "class Car:\n",
    "    def __init__(self, year_model, make):\n",
    "        self.__year_model = year_model\n",
    "        self.__make = make\n",
    "        self.__speed = 0\n",
    "\n",
    "    def accelerate(self):\n",
    "        self.__speed += 5\n",
    "\n",
    "    def brake(self):\n",
    "        self.__speed -= 5\n",
    "\n",
    "    def get_speed(self):\n",
    "        return self.__speed\n",
    "\n",
    "def main():\n",
    "    # Create a Car object\n",
    "    my_car = Car(2024, \"Chevrolet\")\n",
    "\n",
    "    # Accelerate the car five times and display the speed\n",
    "    for _ in range(5):\n",
    "        my_car.accelerate()\n",
    "        print(f\"Current speed: {my_car.get_speed()} mph\")\n",
    "\n",
    "    # Brake the car five times and display the speed\n",
    "    for _ in range(5):\n",
    "        my_car.brake()\n",
    "        print(f\"Current speed: {my_car.get_speed()} mph\")\n",
    "\n",
    "if __name__ == \"__main__\":\n",
    "    main()\n"
   ]
  },
  {
   "cell_type": "markdown",
   "id": "b893d5f5",
   "metadata": {},
   "source": [
    "#Question 4"
   ]
  },
  {
   "cell_type": "code",
   "execution_count": 10,
   "id": "d7e25f59",
   "metadata": {},
   "outputs": [
    {
     "name": "stdout",
     "output_type": "stream",
     "text": [
      "Employee Information:\n",
      "Name: Susan Meyers\n",
      "ID Number: 47899\n",
      "Department: Accounting\n",
      "Job Title: Vice President\n",
      "\n",
      "Name: Mark Jones\n",
      "ID Number: 39119\n",
      "Department: IT\n",
      "Job Title: Programmer\n",
      "\n",
      "Name: Joy Rogers\n",
      "ID Number: 81774\n",
      "Department: Manufacturing\n",
      "Job Title: Engineer\n"
     ]
    }
   ],
   "source": [
    "class Employee:\n",
    "    def __init__(self, name, id_number, department, job_title):\n",
    "        self.name = name\n",
    "        self.id_number = id_number\n",
    "        self.department = department\n",
    "        self.job_title = job_title\n",
    "\n",
    "def main():\n",
    "    # Create Employee objects for Susan Meyers, Mark Jones, and Joy Rogers\n",
    "    susan = Employee(\"Susan Meyers\", 47899, \"Accounting\", \"Vice President\")\n",
    "    mark = Employee(\"Mark Jones\", 39119, \"IT\", \"Programmer\")\n",
    "    joy = Employee(\"Joy Rogers\", 81774, \"Manufacturing\", \"Engineer\")\n",
    "\n",
    "    # Display Employee Data\n",
    "    print(\"Employee Information:\")\n",
    "    print(\"Name:\", susan.name)\n",
    "    print(\"ID Number:\", susan.id_number)\n",
    "    print(\"Department:\", susan.department)\n",
    "    print(\"Job Title:\", susan.job_title)\n",
    "    print()\n",
    "\n",
    "    print(\"Name:\", mark.name)\n",
    "    print(\"ID Number:\", mark.id_number)\n",
    "    print(\"Department:\", mark.department)\n",
    "    print(\"Job Title:\", mark.job_title)\n",
    "    print()\n",
    "\n",
    "    print(\"Name:\", joy.name)\n",
    "    print(\"ID Number:\", joy.id_number)\n",
    "    print(\"Department:\", joy.department)\n",
    "    print(\"Job Title:\", joy.job_title)\n",
    "\n",
    "if __name__ == \"__main__\":\n",
    "    main()"
   ]
  },
  {
   "cell_type": "code",
   "execution_count": null,
   "id": "cc4f9577",
   "metadata": {},
   "outputs": [],
   "source": []
  }
 ],
 "metadata": {
  "kernelspec": {
   "display_name": "Python 3 (ipykernel)",
   "language": "python",
   "name": "python3"
  },
  "language_info": {
   "codemirror_mode": {
    "name": "ipython",
    "version": 3
   },
   "file_extension": ".py",
   "mimetype": "text/x-python",
   "name": "python",
   "nbconvert_exporter": "python",
   "pygments_lexer": "ipython3",
   "version": "3.11.4"
  }
 },
 "nbformat": 4,
 "nbformat_minor": 5
}
